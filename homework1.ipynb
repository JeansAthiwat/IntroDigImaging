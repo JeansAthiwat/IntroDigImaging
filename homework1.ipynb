{
  "nbformat": 4,
  "nbformat_minor": 0,
  "metadata": {
    "colab": {
      "provenance": [],
      "include_colab_link": true
    },
    "kernelspec": {
      "name": "python3",
      "display_name": "Python 3"
    },
    "language_info": {
      "name": "python"
    }
  },
  "cells": [
    {
      "cell_type": "markdown",
      "metadata": {
        "id": "view-in-github",
        "colab_type": "text"
      },
      "source": [
        "<a href=\"https://colab.research.google.com/github/JeansAthiwat/IntroDigImaging/blob/main/homework1.ipynb\" target=\"_parent\"><img src=\"https://colab.research.google.com/assets/colab-badge.svg\" alt=\"Open In Colab\"/></a>"
      ]
    },
    {
      "cell_type": "markdown",
      "source": [
        "# Homework #1"
      ],
      "metadata": {
        "id": "erlgB3Lv6kYR"
      }
    },
    {
      "cell_type": "markdown",
      "source": [
        "* copy this file into your drive\n",
        "```\n",
        "File -> Save a copy in Drive\n",
        "```\n",
        "* write the code in the cells provided for each questions\n",
        "* <font color=\"red\"> DO NOT DELETE or MODIFY </font> the first line of each cell (will be used to mark your homework, otherwise you will get 0)\n",
        "* <font color=\"red\"> DO NOT DELETE or MODIFY </font> function name, function input, and function output (return). Otherwise, you will get 0.\n",
        "* <font color=\"red\"> DO NOT ADD </font> anything outside the function. Otherwise, you will get 0.\n",
        "* Make sure homework1_1-1_4 can run properly and can be tested with any image (not rely just on your images); otherwise, your homework will not be marked."
      ],
      "metadata": {
        "id": "KjMbmi5QYE2I"
      }
    },
    {
      "cell_type": "code",
      "source": [
        "!wget https://drive.google.com/uc?id=1Yox-XWM-PY9vFtDdzB_y_U3SK2paewwe -O kitty.jpg\n",
        "!wget https://drive.google.com/uc?id=1mIO58Oat2rxLg-c82eN2TLH8sTucQJGI -O noisy_ct.jpg\n",
        "!wget https://drive.google.com/uc?id=1BNU8_HhPZ96PlImDia8u59QDR4V9wNwb -O amoeba.jpg"
      ],
      "metadata": {
        "id": "_U0JptoJYEgk"
      },
      "execution_count": null,
      "outputs": []
    },
    {
      "cell_type": "code",
      "execution_count": null,
      "metadata": {
        "id": "9KqORinr0tbn"
      },
      "outputs": [],
      "source": [
        "# homework1_1 --> do not modify/delete this first line and do not add anything before this line\n",
        "\n",
        "# import library for 1.1\n",
        "import cv2\n",
        "import numpy as np\n",
        "import matplotlib.pyplot as plt\n",
        "\n",
        "\n",
        "\n",
        "def homework1_1(rgb_image):\n",
        "    # input -> rgb_image - type -> np.ndarray, size of - (height, width, 3) with dtype - uint8\n",
        "    # output -> smoothed_img - type -> np.ndarray, size of - (height, width) with dtype - uint8\n",
        "    #           mark_ROI - type -> np.ndarray, size of - (height, width) with dtype - uint8\n",
        "    #           Gray_Level_img - type -> np.ndarray, size of - (height, width) with dtype - uint8\n",
        "\n",
        "\n",
        "    # TO DO : You can use/modify the code guideline below or write your own code below here\n",
        "    # Convert the image to grayscale\n",
        "    gray_image = cv2.______________(rgb_image,cv2._____________)\n",
        "\n",
        "    # 1.1 Use the median filter to smooth the image\n",
        "    smoothed_img = cv2._____________(gray_image, _____________)\n",
        "\n",
        "    # 1.2 Make ROI with\n",
        "    # Create an area of interest (ROI) using image slicing\n",
        "    mark_ROI = smoothed_img[_____________]\n",
        "\n",
        "\n",
        "    # 1.3 Use Gray Level slicing\n",
        "    Gray_Level_img = np.zeros_like(mark_ROI)\n",
        "    Gray_Level_img[(mark_ROI >= _____________)]  = 255\n",
        "\n",
        "\n",
        "    return smoothed_img, mark_ROI, Gray_Level_img\n",
        "\n",
        "\n",
        "\n",
        "# Do not add anything outside the function in the submission"
      ]
    },
    {
      "cell_type": "code",
      "source": [
        "# homework1_2 --> do not modify/delete this first line and do not add anything before this line\n",
        "\n",
        "def homework1_2(rgb_image):\n",
        "    # input -> rgb_image - type -> np.ndarray, size of - (height, width, 3) with dtype - uint8\n",
        "    # output -> filtered_image - type -> np.ndarray, size of - (height, width, 3) with dtype - uint8\n",
        "\n",
        "    filtered_image = np.zeros((rgb_image.shape),dtype=np.uint8)\n",
        "\n",
        "    # TO DO - Design your own filter here\n",
        "\n",
        "\n",
        "\n",
        "\n",
        "\n",
        "\n",
        "\n",
        "    return filtered_image\n",
        "\n",
        "\n",
        "# Do not add anything outside the function in the submission"
      ],
      "metadata": {
        "id": "zNjfZ3-TZ8ts"
      },
      "execution_count": null,
      "outputs": []
    },
    {
      "cell_type": "code",
      "source": [
        "# homework1_3 --> do not modify/delete this first line and do not add anything before this line\n",
        "\n",
        "def homework1_3(gray_image):\n",
        "  # input -> gray_image - type -> np.ndarray, size of - (height, width) with dtype - uint8\n",
        "  # output -> laplacian_image - type -> np.ndarray, size of - (height, width) with dtype - uint8\n",
        "  #           sharpen_image - type -> np.ndarray, size of - (height, width) with dtype - uint8\n",
        "\n",
        "  laplacian_image = np.zeros((gray_image.shape))\n",
        "  sharpen_image = np.zeros((gray_image.shape))\n",
        "\n",
        "  # TO DO : generate and return laplacian image and shapening image\n",
        "\n",
        "\n",
        "\n",
        "\n",
        "\n",
        "\n",
        "\n",
        "\n",
        "  return laplacian_image, sharpen_image\n",
        "\n",
        "# Do not add anything outside the function in the submission\n"
      ],
      "metadata": {
        "id": "xgJHuNN8iBhU"
      },
      "execution_count": null,
      "outputs": []
    },
    {
      "cell_type": "markdown",
      "source": [
        "# Test our function here"
      ],
      "metadata": {
        "id": "CwxdeX2ujmf4"
      }
    },
    {
      "cell_type": "code",
      "source": [
        "# test homework1_1\n",
        "img1_1 = cv2.imread('noisy_ct.jpg')\n",
        "smoothed_img, mark_ROI, Gray_Level_img = homework1_1(img1_1[:,:,::-1])\n",
        "# Picture show Row1\n",
        "plt.figure(figsize=(20, 20))\n",
        "plt.subplot(1, 2, 1)\n",
        "plt.imshow(img1_1[:, :, ::-1])\n",
        "plt.title('Original')\n",
        "plt.axis('off')\n",
        "\n",
        "plt.subplot(1, 2, 2)\n",
        "plt.imshow(smoothed_img, cmap='gray')\n",
        "plt.title('Image after smoothing')\n",
        "plt.axis('off')\n",
        "\n",
        "# Picture show Row2\n",
        "plt.figure(figsize=(10, 8))\n",
        "plt.subplot(2, 2, 1)\n",
        "plt.imshow(mark_ROI, cmap='gray')\n",
        "plt.title('Mark ROI Image')\n",
        "plt.axis('off')\n",
        "\n",
        "plt.subplot(2, 2, 2)\n",
        "plt.imshow(Gray_Level_img, cmap='gray')\n",
        "plt.title('Segmentation with transformation img')\n",
        "plt.axis('off')\n",
        "\n",
        "plt.show()\n"
      ],
      "metadata": {
        "id": "uSfHb0kZj_0y"
      },
      "execution_count": null,
      "outputs": []
    },
    {
      "cell_type": "code",
      "source": [
        "# test homework1_2\n",
        "img1_2 = cv2.imread(\"kitty.jpg\")\n",
        "img_hw1_2 = homework1_2(img1_2[:, :, ::-1])\n",
        "plt.imshow(img_hw1_2)\n",
        "plt.show()"
      ],
      "metadata": {
        "id": "6U-WPrh9lPgn"
      },
      "execution_count": null,
      "outputs": []
    },
    {
      "cell_type": "code",
      "source": [
        "# test homework1_3\n",
        "img1_3 = cv2.imread(\"amoeba.jpg\")\n",
        "img_gray13 = cv2.cvtColor(img1_3,cv2.COLOR_BGR2GRAY)\n",
        "lap_image, sharpen_image = homework1_3(img_gray13)\n",
        "plt.imshow(img_gray13, cmap = 'gray')\n",
        "plt.title('original image')\n",
        "plt.show()\n",
        "plt.imshow(lap_image, cmap = 'gray')\n",
        "plt.title('laplacian image')\n",
        "plt.show()\n",
        "plt.imshow(sharpen_image, cmap = 'gray')\n",
        "plt.title('sharpen image')\n",
        "plt.show()"
      ],
      "metadata": {
        "id": "r8SUrklhlW7L"
      },
      "execution_count": null,
      "outputs": []
    }
  ]
}